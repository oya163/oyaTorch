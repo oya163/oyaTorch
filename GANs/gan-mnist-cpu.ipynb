{
 "cells": [
  {
   "cell_type": "code",
   "execution_count": 1,
   "metadata": {
    "collapsed": true
   },
   "outputs": [],
   "source": [
    "'''\n",
    "    This is another example of Generative Adversarial Network\n",
    "    This network uses MNIST dataset to generate numbers\n",
    "    This tutorial is taken from https://github.com/yunjey\n",
    "    Thank you yunjey.\n",
    "'''\n",
    "\n",
    "import torch\n",
    "import torch.nn as nn\n",
    "import torch.optim as optim\n",
    "import torch.nn.functional as F\n",
    "import torchvision\n",
    "from torchvision import transforms\n",
    "from torchvision import datasets\n",
    "from torchvision.utils import save_image\n",
    "from torch.utils.data import DataLoader\n",
    "from torch.autograd import Variable\n",
    "\n",
    "import numpy as np\n",
    "import matplotlib.pyplot as plt\n",
    "import matplotlib.ticker as ticker\n",
    "\n",
    "def to_var(x):\n",
    "    if torch.cuda.is_available():\n",
    "        x = x.cuda()\n",
    "    return Variable(x)\n",
    "\n",
    "def denorm(x):\n",
    "    out = (x + 1) / 2\n",
    "    return out.clamp(0, 1)\n",
    "\n",
    "tranform = transforms.Compose([\n",
    "    transforms.ToTensor(),\n",
    "    transforms.Normalize(mean = (0.5, 0.5, 0.5),\n",
    "                         std = (0.5, 0.5, 0.5))\n",
    "])\n",
    "\n",
    "mnist_dataset = datasets.MNIST(root = '../datasets/mnist/', train=True, transform=tranform)\n",
    "\n",
    "dataloader = DataLoader(dataset=mnist_dataset, batch_size=100, shuffle=True)"
   ]
  },
  {
   "cell_type": "code",
   "execution_count": 2,
   "metadata": {
    "collapsed": true
   },
   "outputs": [],
   "source": [
    "# Define classes of MNIST\n",
    "classes = ('0', '1', '2', '3','4', '5', '6', '7', '8', '9')\n",
    "\n",
    "# Helper function to show sample images\n",
    "%matplotlib inline\n",
    "def imshow(img):\n",
    "    img = img / 2 + 0.5\n",
    "    npimg = img.numpy()\n",
    "    plt.imshow(np.transpose(npimg, (1, 2, 0)))"
   ]
  },
  {
   "cell_type": "code",
   "execution_count": 3,
   "metadata": {
    "collapsed": false
   },
   "outputs": [
    {
     "name": "stdout",
     "output_type": "stream",
     "text": [
      "torch.Size([100, 1, 28, 28])\n",
      "<class 'torch.autograd.variable.Variable'>\n",
      "<class 'torch.autograd.variable.Variable'>\n",
      "Label:     4     5     3     6     8     1     4     7     8     3     1     9     2     5     9     1     6     2     3     8     8     3     1     3     5     5     8     8     9     2     8     6     4     6     5     9     1     8     5     9     8     8     2     2     8     5     8     4     1     0     2     6     3     4     3     3     5     9     6     0     4     8     0     9     7     0     7     7     1     1     1     0     9     1     8     3     0     0     7     7     3     4     3     1     4     1     1     7     2     1     0     4     5     1     8     1     8     7     1     2\n"
     ]
    },
    {
     "data": {
      "image/png": "[encoded data removed]",
      "text/plain": [
       "<matplotlib.figure.Figure at 0x7f8b8c57ad30>"
      ]
     },
     "metadata": {},
     "output_type": "display_data"
    }
   ],
   "source": [
    "# Display sample training data\n",
    "dataiter = iter(dataloader)\n",
    "images, labels = dataiter.next()\n",
    "\n",
    "batch_size = images.size(0)\n",
    "print(images.size())\n",
    "\n",
    "# images = Variable(images.view(batch_size, -1))\n",
    "# print(images.size())\n",
    "\n",
    "real_labels = Variable(torch.ones(batch_size))\n",
    "real_labels_1 = Variable(labels)\n",
    "print(type(real_labels))\n",
    "print(type(real_labels_1))\n",
    "\n",
    "imshow(torchvision.utils.make_grid(images))\n",
    "print('Label:', ' '.join('%5s' % classes[labels[j]] for j in range(100)))"
   ]
  },
  {
   "cell_type": "code",
   "execution_count": 4,
   "metadata": {
    "collapsed": true
   },
   "outputs": [],
   "source": [
    "# Discriminator\n",
    "D = nn.Sequential(\n",
    "    nn.Linear(784, 256),\n",
    "    nn.LeakyReLU(0.2),\n",
    "    nn.Linear(256, 256),\n",
    "    nn.LeakyReLU(0.2),\n",
    "    nn.Linear(256, 1),\n",
    "    nn.Sigmoid())\n",
    "\n",
    "# Generator \n",
    "G = nn.Sequential(\n",
    "    nn.Linear(64, 256),\n",
    "    nn.LeakyReLU(0.2),\n",
    "    nn.Linear(256, 256),\n",
    "    nn.LeakyReLU(0.2),\n",
    "    nn.Linear(256, 784),\n",
    "    nn.Tanh())"
   ]
  },
  {
   "cell_type": "code",
   "execution_count": 5,
   "metadata": {
    "collapsed": true
   },
   "outputs": [],
   "source": [
    "if torch.cuda.is_available():\n",
    "    D.cuda()\n",
    "    G.cuda()"
   ]
  },
  {
   "cell_type": "code",
   "execution_count": 6,
   "metadata": {
    "collapsed": true
   },
   "outputs": [],
   "source": [
    "criterion = nn.BCELoss()\n",
    "d_optimizer = optim.Adam(D.parameters(), lr=1e-3)\n",
    "g_optimizer = optim.Adam(G.parameters(), lr=1e-3)"
   ]
  },
  {
   "cell_type": "code",
   "execution_count": 7,
   "metadata": {
    "collapsed": true
   },
   "outputs": [],
   "source": [
    "def g_save_checkpoint(g_state, g_file = 'generator.pth.tar'):\n",
    "    torch.save(g_state, g_file)\n",
    "    \n",
    "def d_save_checkpoint(d_state, d_file = 'discriminator.pth.tar'):\n",
    "    torch.save(d_state, d_file)"
   ]
  },
  {
   "cell_type": "code",
   "execution_count": 8,
   "metadata": {
    "collapsed": true
   },
   "outputs": [],
   "source": [
    "starting_epoch = 0\n",
    "total_epoch = 50"
   ]
  },
  {
   "cell_type": "code",
   "execution_count": 9,
   "metadata": {
    "collapsed": false
   },
   "outputs": [],
   "source": [
    "import os.path as path\n",
    "\n",
    "if path.isfile('./generator.pth.tar') and path.isfile('./discriminator.pth.tar'):\n",
    "    g_checkpoint = torch.load('./generator.pth.tar')\n",
    "    d_checkpoint = torch.load('./discriminator.pth.tar')\n",
    "    \n",
    "    starting_epoch = g_checkpoint['epoch']\n",
    "    \n",
    "    G.load_state_dict(g_checkpoint['state_dict'])\n",
    "    g_optimizer.load_state_dict(g_checkpoint['g_optimizer'])\n",
    "    \n",
    "    D.load_state_dict(d_checkpoint['state_dict'])\n",
    "    d_optimizer.load_state_dict(d_checkpoint['d_optimizer'])\n",
    "    \n",
    "    print(\"Starting from epoch : %d\" % epoch)"
   ]
  },
  {
   "cell_type": "code",
   "execution_count": 10,
   "metadata": {
    "collapsed": false
   },
   "outputs": [
    {
     "name": "stdout",
     "output_type": "stream",
     "text": [
      "Epoch [0/50], Step[300/600], d_loss: 1.2168, g_loss: 8.2564, D(x): 0.89, D(G(z)): 0.19\n",
      "Epoch [0/50], Step[600/600], d_loss: 0.4526, g_loss: 4.6976, D(x): 0.80, D(G(z)): 0.09\n",
      "Epoch [1/50], Step[300/600], d_loss: 0.0730, g_loss: 4.8759, D(x): 0.97, D(G(z)): 0.03\n",
      "Epoch [1/50], Step[600/600], d_loss: 0.0377, g_loss: 13.1153, D(x): 1.00, D(G(z)): 0.02\n",
      "Epoch [2/50], Step[300/600], d_loss: 0.0187, g_loss: 13.0845, D(x): 1.00, D(G(z)): 0.01\n",
      "Epoch [2/50], Step[600/600], d_loss: 0.0115, g_loss: 12.6466, D(x): 1.00, D(G(z)): 0.01\n",
      "Epoch [3/50], Step[300/600], d_loss: 0.0006, g_loss: 13.9314, D(x): 1.00, D(G(z)): 0.00\n",
      "Epoch [3/50], Step[600/600], d_loss: 0.0000, g_loss: 11.1069, D(x): 1.00, D(G(z)): 0.00\n",
      "Epoch [4/50], Step[300/600], d_loss: 0.0000, g_loss: 11.4050, D(x): 1.00, D(G(z)): 0.00\n",
      "Epoch [4/50], Step[600/600], d_loss: 0.0000, g_loss: 11.5204, D(x): 1.00, D(G(z)): 0.00\n",
      "Epoch [5/50], Step[300/600], d_loss: 0.0008, g_loss: 19.9840, D(x): 1.00, D(G(z)): 0.00\n",
      "Epoch [5/50], Step[600/600], d_loss: 0.0002, g_loss: 14.5553, D(x): 1.00, D(G(z)): 0.00\n",
      "Epoch [6/50], Step[300/600], d_loss: 0.0001, g_loss: 10.0887, D(x): 1.00, D(G(z)): 0.00\n",
      "Epoch [6/50], Step[600/600], d_loss: 0.0001, g_loss: 10.2595, D(x): 1.00, D(G(z)): 0.00\n",
      "Epoch [7/50], Step[300/600], d_loss: 0.0000, g_loss: 11.7721, D(x): 1.00, D(G(z)): 0.00\n",
      "Epoch [7/50], Step[600/600], d_loss: 0.0000, g_loss: 13.0169, D(x): 1.00, D(G(z)): 0.00\n",
      "Epoch [8/50], Step[300/600], d_loss: 0.0000, g_loss: 12.5047, D(x): 1.00, D(G(z)): 0.00\n",
      "Epoch [8/50], Step[600/600], d_loss: 0.0002, g_loss: 10.7987, D(x): 1.00, D(G(z)): 0.00\n",
      "Epoch [9/50], Step[300/600], d_loss: 0.0000, g_loss: 27.6028, D(x): 1.00, D(G(z)): 0.00\n",
      "Epoch [9/50], Step[600/600], d_loss: 0.0000, g_loss: 27.5838, D(x): 1.00, D(G(z)): 0.00\n",
      "Epoch [10/50], Step[300/600], d_loss: 0.0000, g_loss: 24.7528, D(x): 1.00, D(G(z)): 0.00\n",
      "Epoch [10/50], Step[600/600], d_loss: 0.0003, g_loss: 11.7246, D(x): 1.00, D(G(z)): 0.00\n",
      "Epoch [11/50], Step[300/600], d_loss: 0.0025, g_loss: 21.8438, D(x): 1.00, D(G(z)): 0.00\n",
      "Epoch [11/50], Step[600/600], d_loss: 0.0003, g_loss: 8.8220, D(x): 1.00, D(G(z)): 0.00\n",
      "Epoch [12/50], Step[300/600], d_loss: 0.0006, g_loss: 10.7727, D(x): 1.00, D(G(z)): 0.00\n",
      "Epoch [12/50], Step[600/600], d_loss: 0.0000, g_loss: 11.4082, D(x): 1.00, D(G(z)): 0.00\n",
      "Epoch [13/50], Step[300/600], d_loss: 0.0000, g_loss: 12.9263, D(x): 1.00, D(G(z)): 0.00\n",
      "Epoch [13/50], Step[600/600], d_loss: 0.0000, g_loss: 13.0659, D(x): 1.00, D(G(z)): 0.00\n",
      "Epoch [14/50], Step[300/600], d_loss: 0.0000, g_loss: 13.3417, D(x): 1.00, D(G(z)): 0.00\n",
      "Epoch [14/50], Step[600/600], d_loss: 0.0000, g_loss: 13.7133, D(x): 1.00, D(G(z)): 0.00\n",
      "Epoch [15/50], Step[300/600], d_loss: 0.0000, g_loss: 14.2274, D(x): 1.00, D(G(z)): 0.00\n",
      "Epoch [15/50], Step[600/600], d_loss: 0.0000, g_loss: 14.5470, D(x): 1.00, D(G(z)): 0.00\n",
      "Epoch [16/50], Step[300/600], d_loss: 0.0000, g_loss: 14.7665, D(x): 1.00, D(G(z)): 0.00\n",
      "Epoch [16/50], Step[600/600], d_loss: 0.0000, g_loss: 15.0955, D(x): 1.00, D(G(z)): 0.00\n",
      "Epoch [17/50], Step[300/600], d_loss: 0.0000, g_loss: 15.1621, D(x): 1.00, D(G(z)): 0.00\n",
      "Epoch [17/50], Step[600/600], d_loss: 0.0000, g_loss: 15.5421, D(x): 1.00, D(G(z)): 0.00\n",
      "Epoch [18/50], Step[300/600], d_loss: 0.0000, g_loss: 15.7992, D(x): 1.00, D(G(z)): 0.00\n",
      "Epoch [18/50], Step[600/600], d_loss: 0.0000, g_loss: 15.7170, D(x): 1.00, D(G(z)): 0.00\n",
      "Epoch [19/50], Step[300/600], d_loss: 0.0000, g_loss: 16.0005, D(x): 1.00, D(G(z)): 0.00\n",
      "Epoch [19/50], Step[600/600], d_loss: 0.0000, g_loss: 16.2283, D(x): 1.00, D(G(z)): 0.00\n",
      "Epoch [20/50], Step[300/600], d_loss: 0.0000, g_loss: 16.2705, D(x): 1.00, D(G(z)): 0.00\n",
      "Epoch [20/50], Step[600/600], d_loss: 0.0000, g_loss: 16.6081, D(x): 1.00, D(G(z)): 0.00\n",
      "Epoch [21/50], Step[300/600], d_loss: 0.0000, g_loss: 16.7291, D(x): 1.00, D(G(z)): 0.00\n"
     ]
    },
    {
     "ename": "KeyboardInterrupt",
     "evalue": "",
     "output_type": "error",
     "traceback": [
      "\u001b[0;31m---------------------------------------------------------------------------\u001b[0m",
      "\u001b[0;31mKeyboardInterrupt\u001b[0m                         Traceback (most recent call last)",
      "\u001b[0;32m<ipython-input-10-6a2772bf470b>\u001b[0m in \u001b[0;36m<module>\u001b[0;34m()\u001b[0m\n\u001b[1;32m     24\u001b[0m         \u001b[0md_loss\u001b[0m \u001b[0;34m=\u001b[0m \u001b[0md_loss_real\u001b[0m \u001b[0;34m+\u001b[0m \u001b[0md_loss_fake\u001b[0m\u001b[0;34m\u001b[0m\u001b[0m\n\u001b[1;32m     25\u001b[0m         \u001b[0mD\u001b[0m\u001b[0;34m.\u001b[0m\u001b[0mzero_grad\u001b[0m\u001b[0;34m(\u001b[0m\u001b[0;34m)\u001b[0m\u001b[0;34m\u001b[0m\u001b[0m\n\u001b[0;32m---> 26\u001b[0;31m         \u001b[0md_loss\u001b[0m\u001b[0;34m.\u001b[0m\u001b[0mbackward\u001b[0m\u001b[0;34m(\u001b[0m\u001b[0;34m)\u001b[0m\u001b[0;34m\u001b[0m\u001b[0m\n\u001b[0m\u001b[1;32m     27\u001b[0m         \u001b[0md_optimizer\u001b[0m\u001b[0;34m.\u001b[0m\u001b[0mstep\u001b[0m\u001b[0;34m(\u001b[0m\u001b[0;34m)\u001b[0m\u001b[0;34m\u001b[0m\u001b[0m\n\u001b[1;32m     28\u001b[0m \u001b[0;34m\u001b[0m\u001b[0m\n",
      "\u001b[0;32m/home/oyashi/anaconda3/lib/python3.6/site-packages/torch/autograd/variable.py\u001b[0m in \u001b[0;36mbackward\u001b[0;34m(self, gradient, retain_variables)\u001b[0m\n\u001b[1;32m    144\u001b[0m                     'or with gradient w.r.t. the variable')\n\u001b[1;32m    145\u001b[0m             \u001b[0mgradient\u001b[0m \u001b[0;34m=\u001b[0m \u001b[0mself\u001b[0m\u001b[0;34m.\u001b[0m\u001b[0mdata\u001b[0m\u001b[0;34m.\u001b[0m\u001b[0mnew\u001b[0m\u001b[0;34m(\u001b[0m\u001b[0;34m)\u001b[0m\u001b[0;34m.\u001b[0m\u001b[0mresize_as_\u001b[0m\u001b[0;34m(\u001b[0m\u001b[0mself\u001b[0m\u001b[0;34m.\u001b[0m\u001b[0mdata\u001b[0m\u001b[0;34m)\u001b[0m\u001b[0;34m.\u001b[0m\u001b[0mfill_\u001b[0m\u001b[0;34m(\u001b[0m\u001b[0;36m1\u001b[0m\u001b[0;34m)\u001b[0m\u001b[0;34m\u001b[0m\u001b[0m\n\u001b[0;32m--> 146\u001b[0;31m         \u001b[0mself\u001b[0m\u001b[0;34m.\u001b[0m\u001b[0m_execution_engine\u001b[0m\u001b[0;34m.\u001b[0m\u001b[0mrun_backward\u001b[0m\u001b[0;34m(\u001b[0m\u001b[0;34m(\u001b[0m\u001b[0mself\u001b[0m\u001b[0;34m,\u001b[0m\u001b[0;34m)\u001b[0m\u001b[0;34m,\u001b[0m \u001b[0;34m(\u001b[0m\u001b[0mgradient\u001b[0m\u001b[0;34m,\u001b[0m\u001b[0;34m)\u001b[0m\u001b[0;34m,\u001b[0m \u001b[0mretain_variables\u001b[0m\u001b[0;34m)\u001b[0m\u001b[0;34m\u001b[0m\u001b[0m\n\u001b[0m\u001b[1;32m    147\u001b[0m \u001b[0;34m\u001b[0m\u001b[0m\n\u001b[1;32m    148\u001b[0m     \u001b[0;32mdef\u001b[0m \u001b[0mregister_hook\u001b[0m\u001b[0;34m(\u001b[0m\u001b[0mself\u001b[0m\u001b[0;34m,\u001b[0m \u001b[0mhook\u001b[0m\u001b[0;34m)\u001b[0m\u001b[0;34m:\u001b[0m\u001b[0;34m\u001b[0m\u001b[0m\n",
      "\u001b[0;31mKeyboardInterrupt\u001b[0m: "
     ]
    }
   ],
   "source": [
    "# Start training\n",
    "for epoch in range(starting_epoch, total_epoch):\n",
    "    for i, (images, labels) in enumerate(dataloader):\n",
    "        # Build mini-batch dataset\n",
    "        batch_size = images.size(0)\n",
    "        images = Variable(images.view(batch_size, -1))\n",
    "        real_labels = Variable(torch.ones(batch_size))\n",
    "        fake_labels = Variable(torch.zeros(batch_size))\n",
    "\n",
    "        #============= Train the discriminator =============#\n",
    "        # Compute loss with real images\n",
    "        outputs = D(images)\n",
    "        d_loss_real = criterion(outputs, real_labels)\n",
    "        real_score = outputs\n",
    "        \n",
    "        # Compute loss with fake images\n",
    "        z = Variable(torch.randn(batch_size, 64))\n",
    "        fake_images = G(z)\n",
    "        outputs = D(fake_images)\n",
    "        d_loss_fake = criterion(outputs, fake_labels)\n",
    "        fake_score = outputs\n",
    "        \n",
    "        # Backprop + Optimize\n",
    "        d_loss = d_loss_real + d_loss_fake\n",
    "        D.zero_grad()\n",
    "        d_loss.backward()\n",
    "        d_optimizer.step()\n",
    "        \n",
    "        #=============== Train the generator ===============#\n",
    "        # Compute loss with fake images\n",
    "        z = Variable(torch.randn(batch_size, 64))\n",
    "        fake_images = G(z)\n",
    "        outputs = D(fake_images)\n",
    "        g_loss = criterion(outputs, real_labels)\n",
    "        \n",
    "        # Backprop + Optimize\n",
    "        D.zero_grad()\n",
    "        G.zero_grad()\n",
    "        g_loss.backward()\n",
    "        g_optimizer.step()\n",
    "        \n",
    "        if (i+1) % 300 == 0:\n",
    "            print('Epoch [%d/%d], Step[%d/%d], d_loss: %.4f, '\n",
    "                  'g_loss: %.4f, D(x): %.2f, D(G(z)): %.2f' \n",
    "                  %(epoch, total_epoch, i+1, 600, d_loss.data[0], g_loss.data[0],\n",
    "                    real_score.data.mean(), fake_score.data.mean()))\n",
    "        \n",
    "    \n",
    "    # Save real images\n",
    "    if (epoch+1) == 1:\n",
    "        images = images.view(images.size(0), 1, 28, 28)\n",
    "        save_image(denorm(images.data), './data/real_images.png')\n",
    "    \n",
    "    # Save sampled images\n",
    "    fake_images = fake_images.view(fake_images.size(0), 1, 28, 28)\n",
    "    save_image(denorm(fake_images.data), './data/fake_images-%d.png' %(epoch+1))\n",
    "    \n",
    "    # Save checkpoint\n",
    "    g_save_checkpoint({\n",
    "        'epoch': epoch + 1,\n",
    "        'state_dict': G.state_dict(),\n",
    "        'g_optimizer': g_optimizer.state_dict()})\n",
    "    \n",
    "    d_save_checkpoint({\n",
    "        'epoch': epoch + 1,\n",
    "        'state_dict': D.state_dict(),\n",
    "        'd_optimizer': d_optimizer.state_dict()})\n",
    "    \n",
    "# Save checkpoint\n",
    "g_save_checkpoint({\n",
    "    'epoch' : epoch + 1,\n",
    "    'state_dict' : G.state_dict(),\n",
    "    'g_optimizer' : g_optimizer.state_dict()}, g_file = 'final_generator.pkl')\n",
    "\n",
    "d_save_checkpoint({\n",
    "    'epoch' : epoch + 1,\n",
    "    'state_dict' : D.state_dict(),\n",
    "    'd_optimizer' : d_optimizer.state_dict()}, d_file = 'final_discriminator.pkl')\n",
    "\n",
    "print('Finished training')"
   ]
  },
  {
   "cell_type": "code",
   "execution_count": null,
   "metadata": {
    "collapsed": true
   },
   "outputs": [],
   "source": []
  },
  {
   "cell_type": "code",
   "execution_count": null,
   "metadata": {
    "collapsed": true
   },
   "outputs": [],
   "source": []
  }
 ],
 "metadata": {
  "kernelspec": {
   "display_name": "Python 3",
   "language": "python",
   "name": "python3"
  },
  "language_info": {
   "codemirror_mode": {
    "name": "ipython",
    "version": 3
   },
   "file_extension": ".py",
   "mimetype": "text/x-python",
   "name": "python",
   "nbconvert_exporter": "python",
   "pygments_lexer": "ipython3",
   "version": "3.6.0"
  }
 },
 "nbformat": 4,
 "nbformat_minor": 2
}
