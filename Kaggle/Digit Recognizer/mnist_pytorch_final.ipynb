{
 "cells": [
  {
   "cell_type": "code",
   "execution_count": 36,
   "metadata": {
    "collapsed": false
   },
   "outputs": [],
   "source": [
    "'''\n",
    "    This program is based on MNIST and DATA-LOADING tutorial in PyTorch.\n",
    "    I have created MnistDataset class to read MNIST input csv files.\n",
    "    This is a work for submission in\n",
    "    Digit Recognizer of Kaggle Competition\n",
    "    \n",
    "    07/25/2017\n",
    "    Oyashi\n",
    "''' \n",
    "\n",
    "from __future__ import print_function, division\n",
    "\n",
    "import torch\n",
    "import torch.nn as nn\n",
    "import torch.optim as optim\n",
    "import torch.nn.functional as F\n",
    "import torchvision\n",
    "from torchvision import transforms, utils\n",
    "from torch.utils.data import Dataset, DataLoader\n",
    "from torch.autograd import Variable\n",
    "\n",
    "import pandas as pd\n",
    "from pandas import Series, DataFrame\n",
    "\n",
    "import numpy as np\n",
    "import matplotlib.pyplot as plt\n",
    "import matplotlib.ticker as ticker\n",
    "%matplotlib inline\n",
    "\n",
    "from skimage import io, transform\n",
    "\n",
    "# Ignore warnings\n",
    "import warnings\n",
    "warnings.filterwarnings(\"ignore\")\n",
    "\n",
    "from PIL import Image, ImageOps"
   ]
  },
  {
   "cell_type": "code",
   "execution_count": 3,
   "metadata": {
    "collapsed": false
   },
   "outputs": [],
   "source": [
    "# Custom class to read training data\n",
    "\n",
    "class MnistDataset(Dataset):\n",
    "    \"\"\"MNIST TRAIN DATASET\"\"\"\n",
    "\n",
    "    def __init__(self, csv_file, transform=None):\n",
    "        self.data = pd.read_csv(csv_file)\n",
    "        self.transform = transform\n",
    "\n",
    "    def __len__(self):\n",
    "        return len(self.data)\n",
    "\n",
    "    def __getitem__(self, idx):\n",
    "        label = np.asscalar(self.data.ix[idx, 0])\n",
    "        image = self.data.ix[idx, 1:].as_matrix().astype('int8')\n",
    "        image = image.reshape(28,28)\n",
    "        image = Image.fromarray(image,mode='L')\n",
    "\n",
    "        if self.transform:\n",
    "            image = self.transform(image)\n",
    "\n",
    "        return image,label"
   ]
  },
  {
   "cell_type": "code",
   "execution_count": 4,
   "metadata": {
    "collapsed": false
   },
   "outputs": [],
   "source": [
    "# Custom class to read testing data\n",
    "\n",
    "class MnistDatasetTest(Dataset):\n",
    "    \"\"\"MNIST TEST DATASET\"\"\"\n",
    "\n",
    "    def __init__(self, csv_file, transform=None):\n",
    "        self.data = pd.read_csv(csv_file)\n",
    "        self.transform = transform\n",
    "\n",
    "    def __len__(self):\n",
    "        return len(self.data)\n",
    "\n",
    "    def __getitem__(self, idx):\n",
    "        image = self.data.ix[idx, 0:].as_matrix().astype('int8')\n",
    "        image = image.reshape(28,28)\n",
    "        image = Image.fromarray(image,mode='L')\n",
    "\n",
    "        if self.transform:\n",
    "            image = self.transform(image)\n",
    "\n",
    "        return image"
   ]
  },
  {
   "cell_type": "code",
   "execution_count": null,
   "metadata": {
    "collapsed": true
   },
   "outputs": [],
   "source": [
    "# Define transmorfation to be applied on images\n",
    "transform = transforms.Compose(\n",
    "    [transforms.Scale(32),\n",
    "    transforms.ToTensor(),\n",
    "    transforms.Normalize((0.5, 0.5, 0.5), (0.5, 0.5, 0.5))])\n",
    "\n",
    "# Load training dataset\n",
    "train_dataset = MnistDataset('input-files/train.csv', transform=transform)\n",
    "trainloader = DataLoader(train_dataset, batch_size=4, shuffle=True, num_workers=4)\n",
    "\n",
    "# Load testing dataset\n",
    "test_dataset = MnistDatasetTest('input-files/test.csv', transform=transform)\n",
    "testloader = DataLoader(test_dataset, batch_size=1, shuffle=False, num_workers=4)"
   ]
  },
  {
   "cell_type": "code",
   "execution_count": 10,
   "metadata": {
    "collapsed": true
   },
   "outputs": [],
   "source": [
    "# Define classes of MNIST\n",
    "classes = ('0', '1', '2', '3','4', '5', '6', '7', '8', '9')\n",
    "\n",
    "# Helper function to show sample images\n",
    "%matplotlib inline\n",
    "def imshow(img):\n",
    "    img = img / 2 + 0.5\n",
    "    npimg = img.numpy()\n",
    "    plt.imshow(np.transpose(npimg, (1, 2, 0)))"
   ]
  },
  {
   "cell_type": "code",
   "execution_count": 33,
   "metadata": {
    "collapsed": false
   },
   "outputs": [
    {
     "name": "stdout",
     "output_type": "stream",
     "text": [
      "Label:     2     9     1     7\n"
     ]
    },
    {
     "data": {
      "image/png": "[encoded data removed]",
      "text/plain": [
       "<matplotlib.figure.Figure at 0x7f6febbb3860>"
      ]
     },
     "metadata": {},
     "output_type": "display_data"
    }
   ],
   "source": [
    "# Display sample training data\n",
    "dataiter = iter(trainloader)\n",
    "images, labels = dataiter.next()\n",
    "\n",
    "imshow(torchvision.utils.make_grid(images))\n",
    "print('Label:', ' '.join('%5s' % classes[labels[j]] for j in range(4)))"
   ]
  },
  {
   "cell_type": "code",
   "execution_count": 13,
   "metadata": {
    "collapsed": false
   },
   "outputs": [
    {
     "data": {
      "image/png": "[encoded data removed]",
      "text/plain": [
       "<matplotlib.figure.Figure at 0x7f6febcfacc0>"
      ]
     },
     "metadata": {},
     "output_type": "display_data"
    }
   ],
   "source": [
    "# Display sample testing data\n",
    "test_dataiter = iter(testloader)\n",
    "test_images = test_dataiter.next()\n",
    "\n",
    "imshow(torchvision.utils.make_grid(test_images))"
   ]
  },
  {
   "cell_type": "code",
   "execution_count": 24,
   "metadata": {
    "collapsed": false
   },
   "outputs": [],
   "source": [
    "# Define network. This is LeNet\n",
    "\n",
    "class Net(nn.Module):\n",
    "    def __init__(self):\n",
    "        super(Net, self).__init__()\n",
    "        self.conv1 = nn.Conv2d(1, 6, 5)\n",
    "        self.pool  = nn.MaxPool2d(2, 2)\n",
    "        self.conv2 = nn.Conv2d(6, 16, 5)\n",
    "        self.fc1   = nn.Linear(16 * 5 * 5, 120)\n",
    "        self.fc2   = nn.Linear(120, 84)\n",
    "        self.fc3   = nn.Linear(84, 10)\n",
    "\n",
    "    def forward(self, x):\n",
    "        x = self.pool(F.relu(self.conv1(x)))\n",
    "        x = self.pool(F.relu(self.conv2(x)))\n",
    "        x = x.view(-1, 16 * 5 * 5)\n",
    "        x = F.relu(self.fc1(x))\n",
    "        x = F.relu(self.fc2(x))\n",
    "        x = self.fc3(x)\n",
    "        return x\n",
    "\n",
    "net = Net()\n",
    "\n",
    "# Define loss. CrossEntropy loss is used here.\n",
    "criterion = nn.CrossEntropyLoss()\n",
    "\n",
    "# Define optimizer. Stochastic Gradient Descent is used here.\n",
    "optimizer = optim.SGD(net.parameters(), lr=0.001, momentum=0.9)"
   ]
  },
  {
   "cell_type": "code",
   "execution_count": 25,
   "metadata": {
    "collapsed": false
   },
   "outputs": [
    {
     "name": "stdout",
     "output_type": "stream",
     "text": [
      "Training at epoch =  0\n",
      "[1,  2000] loss: 11.330\n",
      "[1,  4000] loss: 2.077\n",
      "[1,  6000] loss: 1.126\n",
      "[1,  8000] loss: 1.020\n",
      "[1, 10000] loss: 0.834\n",
      "Training at epoch =  1\n",
      "[2,  2000] loss: 0.685\n",
      "[2,  4000] loss: 0.697\n",
      "[2,  6000] loss: 0.615\n",
      "[2,  8000] loss: 0.536\n",
      "[2, 10000] loss: 0.542\n",
      "Training at epoch =  2\n",
      "[3,  2000] loss: 0.432\n",
      "[3,  4000] loss: 0.411\n",
      "[3,  6000] loss: 0.432\n",
      "[3,  8000] loss: 0.478\n",
      "[3, 10000] loss: 0.447\n",
      "Training at epoch =  3\n",
      "[4,  2000] loss: 0.280\n",
      "[4,  4000] loss: 0.398\n",
      "[4,  6000] loss: 0.329\n",
      "[4,  8000] loss: 0.322\n",
      "[4, 10000] loss: 0.345\n",
      "Finished Training\n"
     ]
    }
   ],
   "source": [
    "# Start the training\n",
    "\n",
    "all_losses = []\n",
    "current_loss = 0.0\n",
    "\n",
    "plot_every = 200\n",
    "\n",
    "for epoch in range(4):\n",
    "    print ('Training at epoch = ', epoch)\n",
    "    current_loss = 0.0\n",
    "    for i, data in enumerate(trainloader):\n",
    "        # Read images and labels\n",
    "        images, labels = data\n",
    "        \n",
    "        # Create Variable\n",
    "        inputs, labels = Variable(images), Variable(labels)\n",
    "        \n",
    "        # Make gradient zero\n",
    "        optimizer.zero_grad()\n",
    "        \n",
    "        # Forward pass\n",
    "        outputs = net(images)\n",
    "        \n",
    "        # Compute loss\n",
    "        loss = criterion(outputs, labels)\n",
    "        \n",
    "        # Backward pass\n",
    "        loss.backward()\n",
    "        \n",
    "        # Update weights\n",
    "        optimizer.step()\n",
    "        \n",
    "        # Print the current loss\n",
    "        current_loss += loss.data[0]\n",
    "        if i % 2000 == 1999:\n",
    "            print('[%d, %5d] loss: %.3f' % (epoch+1, i+1, current_loss / plot_every))\n",
    "            all_losses.append(current_loss / plot_every)\n",
    "            current_loss = 0.0\n",
    "            \n",
    "            \n",
    "print('Finished Training')"
   ]
  },
  {
   "cell_type": "code",
   "execution_count": 37,
   "metadata": {
    "collapsed": false
   },
   "outputs": [
    {
     "data": {
      "text/plain": [
       "[<matplotlib.lines.Line2D at 0x7f6fea40aba8>]"
      ]
     },
     "execution_count": 37,
     "metadata": {},
     "output_type": "execute_result"
    },
    {
     "data": {
      "image/png": "[encoded data removed]",
      "text/plain": [
       "<matplotlib.figure.Figure at 0x7f6fea5486a0>"
      ]
     },
     "metadata": {},
     "output_type": "display_data"
    }
   ],
   "source": [
    "# Plot the loss graph\n",
    "plt.figure()\n",
    "plt.title('Loss figure')\n",
    "plt.plot(all_losses)"
   ]
  },
  {
   "cell_type": "code",
   "execution_count": 30,
   "metadata": {
    "collapsed": false
   },
   "outputs": [
    {
     "name": "stdout",
     "output_type": "stream",
     "text": [
      "Predicted Label:      2 \n"
     ]
    },
    {
     "data": {
      "image/png": "[encoded data removed]",
      "text/plain": [
       "<matplotlib.figure.Figure at 0x7f6fecd54dd8>"
      ]
     },
     "metadata": {},
     "output_type": "display_data"
    }
   ],
   "source": [
    "# Evaluating trained model with a single test data\n",
    "\n",
    "dataiter = iter(testloader)\n",
    "images = dataiter.next()\n",
    "\n",
    "output = net(Variable(images))\n",
    "\n",
    "_, predicted = torch.max(output.data, 1)\n",
    "\n",
    "imshow(torchvision.utils.make_grid(images))\n",
    "print('Predicted Label: ', ' '.join('%5s ' % classes[predicted[j][0]] for j in range(1) ))"
   ]
  },
  {
   "cell_type": "code",
   "execution_count": 29,
   "metadata": {
    "collapsed": false
   },
   "outputs": [],
   "source": [
    "# Evaluate all testing data and save the results\n",
    "\n",
    "all_predictions = []\n",
    "\n",
    "for i, data in enumerate(testloader):\n",
    "    images = data\n",
    "    output = net(Variable(images))\n",
    "    _, predicted = torch.max(output.data, 1)\n",
    "    all_predictions.append(classes[predicted[0][0]])"
   ]
  },
  {
   "cell_type": "code",
   "execution_count": 35,
   "metadata": {
    "collapsed": false
   },
   "outputs": [],
   "source": [
    "# Save the ImageId and Predicted Results into csv file\n",
    "\n",
    "submission = pd.DataFrame({\n",
    "        \"ImageId\": np.arange(1,len(all_predictions)+1),\n",
    "        \"Label\": all_predictions\n",
    "    })\n",
    "submission.to_csv('mnist_results.csv', index=False)"
   ]
  },
  {
   "cell_type": "code",
   "execution_count": null,
   "metadata": {
    "collapsed": true
   },
   "outputs": [],
   "source": []
  }
 ],
 "metadata": {
  "kernelspec": {
   "display_name": "Python 3",
   "language": "python",
   "name": "python3"
  },
  "language_info": {
   "codemirror_mode": {
    "name": "ipython",
    "version": 3
   },
   "file_extension": ".py",
   "mimetype": "text/x-python",
   "name": "python",
   "nbconvert_exporter": "python",
   "pygments_lexer": "ipython3",
   "version": "3.6.0"
  }
 },
 "nbformat": 4,
 "nbformat_minor": 2
}
